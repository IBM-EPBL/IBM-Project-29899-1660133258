{
 "cells": [
  {
   "cell_type": "markdown",
   "id": "f52ac55b",
   "metadata": {},
   "source": [
    "# Exercises\n",
    "Answer the questions or complete the tasks outlined in bold below, use the specific method described if applicable.\n",
    "\n",
    "What is 7 to the power of 4?"
   ]
  },
  {
   "cell_type": "code",
   "execution_count": 2,
   "id": "e4db82f6",
   "metadata": {},
   "outputs": [
    {
     "name": "stdout",
     "output_type": "stream",
     "text": [
      "2401\n"
     ]
    }
   ],
   "source": [
    "print(7**4)"
   ]
  },
  {
   "cell_type": "markdown",
   "id": "9350cca3",
   "metadata": {},
   "source": [
    "# Split this string:\n",
    "\n",
    "s = \"Hi there Sam!\"\n",
    "\n",
    "into a list."
   ]
  },
  {
   "cell_type": "code",
   "execution_count": 3,
   "id": "64685d53",
   "metadata": {},
   "outputs": [
    {
     "name": "stdout",
     "output_type": "stream",
     "text": [
      "['Hi', 'there', 'Sam!']\n"
     ]
    }
   ],
   "source": [
    "txt = \"Hi there Sam!\"\n",
    "x = txt.split()\n",
    "print(x)"
   ]
  },
  {
   "cell_type": "code",
   "execution_count": 4,
   "id": "41000f62",
   "metadata": {},
   "outputs": [
    {
     "name": "stdout",
     "output_type": "stream",
     "text": [
      "['Hi', 'there', 'Dad!']\n"
     ]
    }
   ],
   "source": [
    "txt=\"Hi there Dad!\"\n",
    "x=txt.split(\" \")\n",
    "print(x)"
   ]
  },
  {
   "cell_type": "markdown",
   "id": "2d96cc98",
   "metadata": {},
   "source": [
    "# Given the variables:\n",
    "\n",
    "planet = \"Earth\"\n",
    "diameter = 12742\n",
    "\n",
    "Use .format() to print the following string:\n",
    "\n",
    "The diameter of Earth is 12742 kilometers."
   ]
  },
  {
   "cell_type": "code",
   "execution_count": 5,
   "id": "652cdfca",
   "metadata": {},
   "outputs": [],
   "source": [
    "planet = \"Earth\"\n",
    "diameter = 12742"
   ]
  },
  {
   "cell_type": "code",
   "execution_count": 6,
   "id": "31a131c4",
   "metadata": {},
   "outputs": [
    {
     "name": "stdout",
     "output_type": "stream",
     "text": [
      "The diameter of Earth is 12742 kilometers.\n"
     ]
    }
   ],
   "source": [
    "print(\"The diameter of {} is {} kilometers.\".format(planet,diameter))"
   ]
  },
  {
   "cell_type": "markdown",
   "id": "6a82f6fe",
   "metadata": {},
   "source": [
    "# Given this nested list, use indexing to grab the word \"hello\""
   ]
  },
  {
   "cell_type": "code",
   "execution_count": 7,
   "id": "3b5fa30e",
   "metadata": {},
   "outputs": [],
   "source": [
    "lst = [1,2,[3,4],[5,[100,200,['hello']],23,11],1,7]"
   ]
  },
  {
   "cell_type": "code",
   "execution_count": 8,
   "id": "8fecb371",
   "metadata": {},
   "outputs": [
    {
     "data": {
      "text/plain": [
       "'hello'"
      ]
     },
     "execution_count": 8,
     "metadata": {},
     "output_type": "execute_result"
    }
   ],
   "source": [
    "lst[3][1][2][0]"
   ]
  },
  {
   "cell_type": "markdown",
   "id": "5f9da517",
   "metadata": {},
   "source": [
    "# Given this nest dictionary grab the word \"hello\". Be prepared, this will be annoying/tricky"
   ]
  },
  {
   "cell_type": "code",
   "execution_count": 9,
   "id": "df7d3b95",
   "metadata": {},
   "outputs": [],
   "source": [
    "d = {'a':[1,2,3,{'b':['oh','man','inception',{'c':[1,2,3,'hello']}]}]}"
   ]
  },
  {
   "cell_type": "code",
   "execution_count": 10,
   "id": "46ba7b0e",
   "metadata": {},
   "outputs": [
    {
     "data": {
      "text/plain": [
       "'hello'"
      ]
     },
     "execution_count": 10,
     "metadata": {},
     "output_type": "execute_result"
    }
   ],
   "source": [
    "d['a'][3]['b'][3]['c'][3]"
   ]
  },
  {
   "cell_type": "markdown",
   "id": "2ebb2e6c",
   "metadata": {},
   "source": [
    "# What is the main difference between a tuple and a list?"
   ]
  },
  {
   "cell_type": "code",
   "execution_count": 11,
   "id": "054fd563",
   "metadata": {},
   "outputs": [],
   "source": [
    "#Tuples are immutable. In tuples, the data cannot be change in our program and the data will always remain the same.\n",
    "#Lists are mutable. We can add and remove items."
   ]
  },
  {
   "cell_type": "markdown",
   "id": "08c3ad13",
   "metadata": {},
   "source": [
    "# Create a function that grabs the email website domain from a string in the form:\n",
    "\n",
    "user@domain.com\n",
    "\n",
    "So for example, passing \"user@domain.com\" would return: domain.com"
   ]
  },
  {
   "cell_type": "code",
   "execution_count": 12,
   "id": "0d4db115",
   "metadata": {},
   "outputs": [],
   "source": [
    "def domainGet(inp):\n",
    "  return inp.split('@')[1]"
   ]
  },
  {
   "cell_type": "code",
   "execution_count": 13,
   "id": "969e3b19",
   "metadata": {},
   "outputs": [
    {
     "data": {
      "text/plain": [
       "'domain.com'"
      ]
     },
     "execution_count": 13,
     "metadata": {},
     "output_type": "execute_result"
    }
   ],
   "source": [
    "domainGet('user@domain.com')"
   ]
  },
  {
   "cell_type": "markdown",
   "id": "a87bc3ea",
   "metadata": {},
   "source": [
    "# Create a basic function that returns True if the word 'dog' is contained in the input string. Don't worry about edge cases like a punctuation being attached to the word dog, but do account for capitalization."
   ]
  },
  {
   "cell_type": "code",
   "execution_count": 14,
   "id": "92ccb751",
   "metadata": {},
   "outputs": [],
   "source": [
    "def findDog(inp):\n",
    "  return 'dog' in inp.lower().split()"
   ]
  },
  {
   "cell_type": "code",
   "execution_count": 15,
   "id": "990d73fe",
   "metadata": {},
   "outputs": [
    {
     "data": {
      "text/plain": [
       "True"
      ]
     },
     "execution_count": 15,
     "metadata": {},
     "output_type": "execute_result"
    }
   ],
   "source": [
    "findDog('Is there a dog here?')"
   ]
  },
  {
   "cell_type": "markdown",
   "id": "fd03d77b",
   "metadata": {},
   "source": [
    "# Create a function that counts the number of times the word \"dog\" occurs in a string. Again ignore edge cases."
   ]
  },
  {
   "cell_type": "code",
   "execution_count": 17,
   "id": "886ca39c",
   "metadata": {},
   "outputs": [],
   "source": [
    "def dog(str):\n",
    "  count=0\n",
    "  for word in str.lower().split():\n",
    "    if word=='dog':\n",
    "      count=count+1;\n",
    "  return count"
   ]
  },
  {
   "cell_type": "code",
   "execution_count": 18,
   "id": "9a77b391",
   "metadata": {},
   "outputs": [
    {
     "data": {
      "text/plain": [
       "1"
      ]
     },
     "execution_count": 18,
     "metadata": {},
     "output_type": "execute_result"
    }
   ],
   "source": [
    "dog('My dog name is Treato. I love my dog.')"
   ]
  },
  {
   "cell_type": "markdown",
   "id": "88a50c67",
   "metadata": {},
   "source": [
    "# Problem\n",
    "You are driving a little too fast, and a police officer stops you. Write a function to return one of 3 possible results: \"No ticket\", \"Small ticket\", or \"Big Ticket\". If your speed is 60 or less, the result is \"No Ticket\". If speed is between 61 and 80 inclusive, the result is \"Small Ticket\". If speed is 81 or more, the result is \"Big Ticket\". Unless it is your birthday (encoded as a boolean value in the parameters of the function) -- on your birthday, your speed can be 5 higher in all cases."
   ]
  },
  {
   "cell_type": "code",
   "execution_count": 19,
   "id": "1667a9ed",
   "metadata": {},
   "outputs": [],
   "source": [
    "def caught_speeding(speed, is_birthday):\n",
    "    \n",
    "    if is_birthday:\n",
    "        speeding = speed - 5\n",
    "    else:\n",
    "        speeding = speed\n",
    "    \n",
    "    if speeding > 80:\n",
    "        return 'Big Ticket'\n",
    "    elif speeding > 60:\n",
    "        return 'Small Ticket'\n",
    "    else:\n",
    "        return 'No Ticket'"
   ]
  },
  {
   "cell_type": "code",
   "execution_count": 20,
   "id": "140ee3e5",
   "metadata": {},
   "outputs": [
    {
     "name": "stdout",
     "output_type": "stream",
     "text": [
      "Big Ticket\n"
     ]
    }
   ],
   "source": [
    "print(caught_speeding(90,True))"
   ]
  },
  {
   "cell_type": "code",
   "execution_count": 21,
   "id": "31538b46",
   "metadata": {},
   "outputs": [
    {
     "name": "stdout",
     "output_type": "stream",
     "text": [
      "Small Ticket\n"
     ]
    }
   ],
   "source": [
    "print(caught_speeding(80,False))"
   ]
  },
  {
   "cell_type": "markdown",
   "id": "8d0db3c2",
   "metadata": {},
   "source": [
    "# Create an employee list with basic salary values(at least 5 values for 5 employees) and using a for loop retreive each employee salary and calculate total salary expenditure."
   ]
  },
  {
   "cell_type": "code",
   "execution_count": 22,
   "id": "2ba9f616",
   "metadata": {},
   "outputs": [
    {
     "name": "stdout",
     "output_type": "stream",
     "text": [
      "50000\n",
      "52000\n",
      "51000\n",
      "53000\n",
      "55000\n",
      "Total salary expenditure = 261000\n"
     ]
    }
   ],
   "source": [
    "employee = [[\"Harni S\",50000],[\"Deepa G\",52000],[\"Mahalakshmi M\",51000],[\"Sharmila R\",53000],[\"Gobika S\",55000]]\n",
    "total = 0\n",
    "for i in employee:\n",
    "  print(i[1])\n",
    "  total += i[1]\n",
    "  \n",
    "print(\"Total salary expenditure =\", total)"
   ]
  },
  {
   "cell_type": "markdown",
   "id": "352b8486",
   "metadata": {},
   "source": [
    "# Create two dictionaries in Python:\n",
    "\n",
    "First one to contain fields as Empid, Empname, Basicpay\n",
    "\n",
    "Second dictionary to contain fields as DeptName, DeptId.\n",
    "\n",
    "Combine both dictionaries."
   ]
  },
  {
   "cell_type": "code",
   "execution_count": 23,
   "id": "081f0ebc",
   "metadata": {},
   "outputs": [
    {
     "name": "stdout",
     "output_type": "stream",
     "text": [
      "{'Empid': 20, 'Empname': 'Harni S', 'Basicpay': 800000.0, 'DeptName': 'CSE', 'DeptId': 2817}\n"
     ]
    }
   ],
   "source": [
    "first_dir = {\n",
    "    \"Empid\" : 20,\n",
    "    \"Empname\": \"Harni S\",\n",
    "    \"Basicpay\" : 800000.00\n",
    "}\n",
    "\n",
    "second_dir = {\n",
    "    \"DeptName\" : \"CSE\",\n",
    "    \"DeptId\" : 2817\n",
    "}\n",
    "\n",
    "\n",
    "combine = {\n",
    "    \"Empid\" : first_dir[\"Empid\"],\n",
    "    \"Empname\": first_dir[\"Empname\"],\n",
    "    \"Basicpay\" : first_dir[\"Basicpay\"],\n",
    "    \"DeptName\" : second_dir[\"DeptName\"],\n",
    "    \"DeptId\" : second_dir[\"DeptId\"]\n",
    "}\n",
    "\n",
    "print(combine)"
   ]
  }
 ],
 "metadata": {
  "kernelspec": {
   "display_name": "Python 3 (ipykernel)",
   "language": "python",
   "name": "python3"
  },
  "language_info": {
   "codemirror_mode": {
    "name": "ipython",
    "version": 3
   },
   "file_extension": ".py",
   "mimetype": "text/x-python",
   "name": "python",
   "nbconvert_exporter": "python",
   "pygments_lexer": "ipython3",
   "version": "3.9.12"
  }
 },
 "nbformat": 4,
 "nbformat_minor": 5
}
